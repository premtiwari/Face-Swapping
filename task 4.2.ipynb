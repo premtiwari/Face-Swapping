{
 "cells": [
  {
   "cell_type": "code",
   "execution_count": 17,
   "id": "f25fb904-a53f-41b6-860e-7b8a614f4ae0",
   "metadata": {},
   "outputs": [],
   "source": [
    "import cv2"
   ]
  },
  {
   "cell_type": "code",
   "execution_count": 18,
   "id": "5dc2cac8-8c77-4521-8c11-4f922befdb01",
   "metadata": {},
   "outputs": [],
   "source": [
    "photo1=cv2.imread(\"img1.jpg\")\n",
    "photo2=cv2.imread(\"img2.jpg\")"
   ]
  },
  {
   "cell_type": "code",
   "execution_count": 19,
   "id": "fcd54df6-6ae0-4482-a7d8-16af1a80315f",
   "metadata": {},
   "outputs": [
    {
     "data": {
      "text/plain": [
       "(620, 596, 3)"
      ]
     },
     "execution_count": 19,
     "metadata": {},
     "output_type": "execute_result"
    }
   ],
   "source": [
    "photo1.shape\n",
    "photo2.shape"
   ]
  },
  {
   "cell_type": "code",
   "execution_count": 20,
   "id": "e6f3b0e7-0482-41f6-afe1-c09a43777104",
   "metadata": {},
   "outputs": [],
   "source": [
    "#See image \n",
    "cv2.imshow(\"srk1\",photo1)\n",
    "cv2.waitKey()\n",
    "cv2.destroyAllWindows()"
   ]
  },
  {
   "cell_type": "code",
   "execution_count": 21,
   "id": "37c47d7a-fb21-48dc-a3a3-6cf37b30d46e",
   "metadata": {},
   "outputs": [],
   "source": [
    "#See image \n",
    "cv2.imshow(\"srk2\",photo2)\n",
    "cv2.waitKey()\n",
    "cv2.destroyAllWindows()"
   ]
  },
  {
   "cell_type": "code",
   "execution_count": 22,
   "id": "5a151e3f-396d-4105-a515-d914e3f8f976",
   "metadata": {},
   "outputs": [],
   "source": [
    "# Load the model to detect face \n",
    "model = cv2.CascadeClassifier('haarcascade_frontalface_default.xml')"
   ]
  },
  {
   "cell_type": "code",
   "execution_count": 23,
   "id": "01cb7502-8899-48f3-80ce-8a33be0aeacf",
   "metadata": {},
   "outputs": [],
   "source": [
    "# Detect faces\n",
    "faces1 = model.detectMultiScale(photo1)\n"
   ]
  },
  {
   "cell_type": "code",
   "execution_count": 24,
   "id": "ba6a0f07-9800-4f04-92f5-56d74163c70a",
   "metadata": {},
   "outputs": [
    {
     "data": {
      "text/plain": [
       "array([[163, 109, 283, 283]])"
      ]
     },
     "execution_count": 24,
     "metadata": {},
     "output_type": "execute_result"
    }
   ],
   "source": [
    "faces1"
   ]
  },
  {
   "cell_type": "code",
   "execution_count": 25,
   "id": "6a74b1e9-5839-4994-be38-d0295c99fbcf",
   "metadata": {},
   "outputs": [],
   "source": [
    "# Detect faces\n",
    "faces2 = model.detectMultiScale(photo2)"
   ]
  },
  {
   "cell_type": "code",
   "execution_count": 26,
   "id": "17acb01e-9f6d-41a8-a13d-7cb5c5dea6b7",
   "metadata": {},
   "outputs": [
    {
     "data": {
      "text/plain": [
       "array([[162, 107, 258, 258]])"
      ]
     },
     "execution_count": 26,
     "metadata": {},
     "output_type": "execute_result"
    }
   ],
   "source": [
    "faces2"
   ]
  },
  {
   "cell_type": "code",
   "execution_count": 27,
   "id": "041f72fc-9e8a-4e0a-a623-48ce5634d984",
   "metadata": {},
   "outputs": [],
   "source": [
    "x1=faces1[0][0]\n",
    "y1=faces1[0][1]\n",
    "x2=x1+300\n",
    "y2=y1+300\n",
    "model_pic1 = photo1[y1:y2,x1:x2].copy()\n",
    "\n",
    "cv2.imshow(\"crop1\",model_pic1)\n",
    "cv2.waitKey()\n",
    "cv2.destroyAllWindows()"
   ]
  },
  {
   "cell_type": "code",
   "execution_count": 28,
   "id": "73106ef0-9a49-4a4b-9eaa-a8cb63580a64",
   "metadata": {},
   "outputs": [],
   "source": [
    "\n",
    "_x1=faces2[0][0]\n",
    "_y1=faces2[0][1]\n",
    "_x2=_x1+300\n",
    "_y2=_y1+300\n",
    "model_pic2 = photo2[_y1:_y2,_x1:_x2].copy()\n",
    "\n",
    "cv2.imshow(\"crop2\",model_pic2)\n",
    "cv2.waitKey()\n",
    "cv2.destroyAllWindows()"
   ]
  },
  {
   "cell_type": "code",
   "execution_count": 29,
   "id": "26225eeb-4810-4adb-9e7d-277345a51903",
   "metadata": {},
   "outputs": [],
   "source": [
    "photo1[y1:y2,x1:x2]=model_pic2\n",
    "cv2.imshow(\"crop1\",photo1)\n",
    "cv2.waitKey()\n",
    "cv2.destroyAllWindows()"
   ]
  },
  {
   "cell_type": "code",
   "execution_count": 30,
   "id": "fd231b19-efcf-45ef-8cbf-47a39d2c9590",
   "metadata": {},
   "outputs": [],
   "source": [
    "photo2[_y1:_y2,_x1:_x2]=model_pic1\n",
    "cv2.imshow(\"crop2\",photo2)\n",
    "cv2.waitKey()\n",
    "cv2.destroyAllWindows()"
   ]
  },
  {
   "cell_type": "code",
   "execution_count": 31,
   "id": "ad40ae78-be78-41d8-a886-c5a8e979672e",
   "metadata": {},
   "outputs": [
    {
     "data": {
      "text/plain": [
       "True"
      ]
     },
     "execution_count": 31,
     "metadata": {},
     "output_type": "execute_result"
    }
   ],
   "source": [
    "cv2.imwrite('crop1.jpg',photo1)"
   ]
  },
  {
   "cell_type": "code",
   "execution_count": 32,
   "id": "77f13f61-7352-4044-8f6a-e7bd148553b6",
   "metadata": {},
   "outputs": [
    {
     "data": {
      "text/plain": [
       "True"
      ]
     },
     "execution_count": 32,
     "metadata": {},
     "output_type": "execute_result"
    }
   ],
   "source": [
    "cv2.imwrite('crop2.jpg',photo2)"
   ]
  },
  {
   "cell_type": "code",
   "execution_count": null,
   "id": "dd879356-77cc-4e4b-99ac-9dc2087bec34",
   "metadata": {},
   "outputs": [],
   "source": []
  },
  {
   "cell_type": "code",
   "execution_count": null,
   "id": "1178bce4-b6cd-42fd-b25b-b378b9af1b0c",
   "metadata": {},
   "outputs": [],
   "source": []
  }
 ],
 "metadata": {
  "interpreter": {
   "hash": "52634da84371cba311ea128a5ea7cdc41ff074b781779e754b270ff9f8153cee"
  },
  "kernelspec": {
   "display_name": "Python 3.10.0 64-bit (system)",
   "language": "python",
   "name": "python3"
  },
  "language_info": {
   "codemirror_mode": {
    "name": "ipython",
    "version": 3
   },
   "file_extension": ".py",
   "mimetype": "text/x-python",
   "name": "python",
   "nbconvert_exporter": "python",
   "pygments_lexer": "ipython3",
   "version": "3.10.0"
  }
 },
 "nbformat": 4,
 "nbformat_minor": 5
}
